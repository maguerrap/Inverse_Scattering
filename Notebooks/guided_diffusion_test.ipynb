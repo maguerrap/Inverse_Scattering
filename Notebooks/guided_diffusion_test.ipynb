{
 "cells": [
  {
   "cell_type": "markdown",
   "metadata": {
    "id": "uuoBVM5f-FoH"
   },
   "source": [
    "## Imports"
   ]
  },
  {
   "cell_type": "code",
   "execution_count": 1,
   "metadata": {
    "executionInfo": {
     "elapsed": 4480,
     "status": "ok",
     "timestamp": 1707108600991,
     "user": {
      "displayName": "Martin Guerra",
      "userId": "02531163252382427838"
     },
     "user_tz": 360
    },
    "id": "VKweWVyr-BAi"
   },
   "outputs": [
    {
     "name": "stderr",
     "output_type": "stream",
     "text": [
      "2024-02-07 20:24:30.042309: W tensorflow/compiler/tf2tensorrt/utils/py_utils.cc:38] TF-TRT Warning: Could not find TensorRT\n"
     ]
    }
   ],
   "source": [
    "import itertools\n",
    "import numpy as np\n",
    "import jax\n",
    "import jax.numpy as jnp\n",
    "import h5py\n",
    "import natsort\n",
    "import torch\n",
    "from jax.tree_util import tree_map\n",
    "from torch.utils import data\n",
    "from functools import partial\n",
    "from torch.utils.data import Dataset, TensorDataset, DataLoader\n",
    "from scipy.ndimage import geometric_transform\n",
    "from scipy.ndimage import gaussian_filter\n",
    "import tensorflow as tf"
   ]
  },
  {
   "cell_type": "markdown",
   "metadata": {
    "id": "irygY1V9-RWK"
   },
   "source": [
    "## Example - training an unconditional diffusion model"
   ]
  },
  {
   "cell_type": "markdown",
   "metadata": {
    "id": "A9RFLAtk-CQN"
   },
   "source": [
    "### Dataset"
   ]
  },
  {
   "cell_type": "markdown",
   "metadata": {
    "id": "ttM1kQvfrDB5"
   },
   "source": [
    "First we need a dataset containing samples whose distribution is to be modeled by the diffusion model. This is application dependent so below we use a pair of dummy train and evaluation dataloaders, which should be replaced with realistic ones for your specific use case.\n",
    "\n",
    "Our code setup accepts any Python Iterable objects to be used as dataloaders. The expectation is that they should continuously yield a dictionary with a field named `x` whose corresponding value is a numpy array with shape `(batch, *spatial_dims, channels)`."
   ]
  },
  {
   "cell_type": "code",
   "execution_count": 2,
   "metadata": {
    "executionInfo": {
     "elapsed": 594,
     "status": "ok",
     "timestamp": 1707108625472,
     "user": {
      "displayName": "Martin Guerra",
      "userId": "02531163252382427838"
     },
     "user_tz": 360
    },
    "id": "AmCIksDZcGG9"
   },
   "outputs": [],
   "source": [
    "# Parameters for the computational task.\n",
    "\n",
    "L = 4 # number of levels (even number)\n",
    "s = 5 # leaf size\n",
    "r = 3 # rank\n",
    "\n",
    "# Discretization of Omega (n_eta * n_eta).\n",
    "neta = (2**L)*s\n",
    "\n",
    "# Number of sources/detectors (n_sc).\n",
    "# Discretization of the domain of alpha in polar coordinates (n_theta * n_rho).\n",
    "# For simplicity, these values are set equal (n_sc = n_theta = n_rho), facilitating computation.\n",
    "nx = (2**L)*s\n",
    "\n",
    "# Standard deviation for the Gaussian blur.\n",
    "blur_sigma = 0.5\n",
    "\n",
    "# Batch size.\n",
    "BATCH_SIZE = 16\n",
    "\n",
    "# Number of training datapoints.\n",
    "NTRAIN = 20000\n",
    "\n",
    "# Number of testing datapoints.\n",
    "NTEST = 512"
   ]
  },
  {
   "cell_type": "code",
   "execution_count": 3,
   "metadata": {
    "executionInfo": {
     "elapsed": 12284,
     "status": "ok",
     "timestamp": 1707108708126,
     "user": {
      "displayName": "Martin Guerra",
      "userId": "02531163252382427838"
     },
     "user_tz": 360
    },
    "id": "2nzwpPWlPLlS"
   },
   "outputs": [],
   "source": [
    "#name = 'Data/traindata_smooth_sigma_0.04'\n",
    "name = 'Data/traindata_shepp_logan'\n",
    "\n",
    "# Loading and preprocessing perturbation data (eta)\n",
    "with h5py.File(f'{name}/eta.h5', 'r') as f:\n",
    "    # Read eta data, apply Gaussian blur, and reshape\n",
    "    eta_re = f[list(f.keys())[0]][:NTRAIN, :].reshape(-1, neta, neta)\n",
    "    blur_fn = lambda x: gaussian_filter(x, sigma=blur_sigma)\n",
    "    eta_re = np.stack([blur_fn(eta_re[i, :, :]) for i in range(NTRAIN)]).astype('float32')\n",
    "\n",
    "# Loading and preprocessing scatter data (Lambda)\n",
    "with h5py.File(f'{name}/scatter.h5', 'r') as f:\n",
    "    keys = natsort.natsorted(f.keys())\n",
    "\n",
    "    # Process real part of scatter data\n",
    "    tmp1 = f[keys[3]][:NTRAIN, :].reshape((-1, nx, nx))\n",
    "    tmp2 = f[keys[4]][:NTRAIN, :].reshape((-1, nx, nx))\n",
    "    tmp3 = f[keys[5]][:NTRAIN, :].reshape((-1, nx, nx))\n",
    "    scatter_re = np.stack((tmp1, tmp2, tmp3), axis=-1)\n",
    "\n",
    "    # Process imaginary part of scatter data\n",
    "    tmp1 = f[keys[0]][:NTRAIN, :].reshape((-1, nx, nx))\n",
    "    tmp2 = f[keys[1]][:NTRAIN, :].reshape((-1, nx, nx))\n",
    "    tmp3 = f[keys[2]][:NTRAIN, :].reshape((-1, nx, nx))\n",
    "    scatter_im = np.stack((tmp1, tmp2, tmp3), axis=-1)\n",
    "\n",
    "    # Combine real and imaginary parts\n",
    "    scatter = np.stack((scatter_re, scatter_im), axis=1).astype('float32')\n",
    "\n",
    "# Clean up temporary variables to free memory\n",
    "del scatter_re, scatter_im, tmp1, tmp2, tmp3"
   ]
  },
  {
   "cell_type": "code",
   "execution_count": 4,
   "metadata": {
    "executionInfo": {
     "elapsed": 1047,
     "status": "ok",
     "timestamp": 1707108710774,
     "user": {
      "displayName": "Martin Guerra",
      "userId": "02531163252382427838"
     },
     "user_tz": 360
    },
    "id": "XelZiATxwzAO"
   },
   "outputs": [],
   "source": [
    "scatter = np.swapaxes(np.swapaxes(np.swapaxes(scatter,1,2),2,3),3,4)\n",
    "scatter = np.reshape(scatter,(NTRAIN,80,80,6))\n",
    "eta_re = np.array([eta_re])\n",
    "eta_re = np.swapaxes(np.swapaxes(np.swapaxes(eta_re,0,1),1,2),2,3)"
   ]
  },
  {
   "cell_type": "code",
   "execution_count": 5,
   "metadata": {
    "executionInfo": {
     "elapsed": 861,
     "status": "ok",
     "timestamp": 1707108712063,
     "user": {
      "displayName": "Martin Guerra",
      "userId": "02531163252382427838"
     },
     "user_tz": 360
    },
    "id": "qPTJps902KSm"
   },
   "outputs": [],
   "source": [
    "scatter_eta_re = np.concatenate((scatter,eta_re),axis=-1)"
   ]
  },
  {
   "cell_type": "code",
   "execution_count": 6,
   "metadata": {},
   "outputs": [],
   "source": [
    "scatter_eta_re_norm = (scatter_eta_re- np.mean(scatter_eta_re,axis=0))/(np.std(scatter_eta_re,axis=0)+ 1e-4)"
   ]
  },
  {
   "cell_type": "code",
   "execution_count": 7,
   "metadata": {
    "colab": {
     "base_uri": "https://localhost:8080/"
    },
    "executionInfo": {
     "elapsed": 3,
     "status": "ok",
     "timestamp": 1707108724193,
     "user": {
      "displayName": "Martin Guerra",
      "userId": "02531163252382427838"
     },
     "user_tz": 360
    },
    "id": "ip68OoL6m8gd",
    "outputId": "c6ad4702-bfb9-419e-bae4-a3b6d293695c"
   },
   "outputs": [
    {
     "data": {
      "text/plain": [
       "(20000, 80, 80, 7)"
      ]
     },
     "execution_count": 7,
     "metadata": {},
     "output_type": "execute_result"
    }
   ],
   "source": [
    "scatter_eta_re_norm.shape"
   ]
  },
  {
   "cell_type": "code",
   "execution_count": 8,
   "metadata": {},
   "outputs": [],
   "source": [
    "eta_re_norm = (eta_re- np.mean(eta_re,axis=0))/(np.std(eta_re,axis=0)+ 1e-4)"
   ]
  },
  {
   "cell_type": "code",
   "execution_count": 9,
   "metadata": {},
   "outputs": [
    {
     "data": {
      "text/plain": [
       "(20000, 80, 80, 1)"
      ]
     },
     "execution_count": 9,
     "metadata": {},
     "output_type": "execute_result"
    }
   ],
   "source": [
    "eta_re_norm.shape"
   ]
  },
  {
   "cell_type": "code",
   "execution_count": 10,
   "metadata": {},
   "outputs": [
    {
     "name": "stderr",
     "output_type": "stream",
     "text": [
      "2024-02-07 20:26:07.602408: W tensorflow/core/common_runtime/gpu/gpu_device.cc:1960] Cannot dlopen some GPU libraries. Please make sure the missing libraries mentioned above are installed properly if you would like to use GPU. Follow the guide at https://www.tensorflow.org/install/gpu for how to download and setup the required libraries for your platform.\n",
      "Skipping registering GPU devices...\n"
     ]
    }
   ],
   "source": [
    "# To avoid tf to use GPU memory\n",
    "tf.config.set_visible_devices([], device_type='GPU')\n",
    "\n",
    "batch_size = 16\n",
    "dict_data = {\"x\": eta_re_norm}\n",
    "dataset = tf.data.Dataset.from_tensor_slices(dict_data)\n",
    "dataset = dataset.repeat()\n",
    "dataset = dataset.batch(batch_size)\n",
    "dataset = dataset.prefetch(tf.data.AUTOTUNE)\n",
    "dataset = eval_dataloader = dataset.as_numpy_iterator()"
   ]
  },
  {
   "cell_type": "code",
   "execution_count": 11,
   "metadata": {},
   "outputs": [],
   "source": [
    "data_std = np.std(eta_re_norm)"
   ]
  },
  {
   "cell_type": "code",
   "execution_count": 12,
   "metadata": {},
   "outputs": [
    {
     "name": "stdout",
     "output_type": "stream",
     "text": [
      "0.7853226\n"
     ]
    }
   ],
   "source": [
    "print(data_std)"
   ]
  },
  {
   "cell_type": "markdown",
   "metadata": {
    "id": "TbDmC9V--f3g"
   },
   "source": [
    "### Architecture"
   ]
  },
  {
   "cell_type": "markdown",
   "metadata": {
    "id": "LsIAbw_t8_fh"
   },
   "source": [
    "Next let's define the U-Net backbone. The \"Preconditioning\" is merely to ensure that the inputs and outputs of the network are roughly standardized (for more details, see Appendix B.6. in [this paper](https://arxiv.org/abs/2206.00364))."
   ]
  },
  {
   "cell_type": "code",
   "execution_count": 13,
   "metadata": {
    "executionInfo": {
     "elapsed": 656,
     "status": "ok",
     "timestamp": 1707108747941,
     "user": {
      "displayName": "Martin Guerra",
      "userId": "02531163252382427838"
     },
     "user_tz": 360
    },
    "id": "QoE_rulD-4BL"
   },
   "outputs": [],
   "source": [
    "import functools\n",
    "\n",
    "from clu import metric_writers\n",
    "import jax\n",
    "import jax.numpy as jnp\n",
    "import matplotlib.pyplot as plt\n",
    "import matplotlib.patches as patches\n",
    "import optax\n",
    "import orbax.checkpoint as ocp\n",
    "\n",
    "from swirl_dynamics import templates\n",
    "from swirl_dynamics.lib import diffusion as dfn_lib\n",
    "from swirl_dynamics.lib import solvers as solver_lib\n",
    "from swirl_dynamics.projects import probabilistic_diffusion as dfn"
   ]
  },
  {
   "cell_type": "code",
   "execution_count": 14,
   "metadata": {
    "executionInfo": {
     "elapsed": 2,
     "status": "ok",
     "timestamp": 1707108749711,
     "user": {
      "displayName": "Martin Guerra",
      "userId": "02531163252382427838"
     },
     "user_tz": 360
    },
    "id": "NrUK52vP8kbc"
   },
   "outputs": [],
   "source": [
    "denoiser_model = dfn_lib.PreconditionedDenoiser(\n",
    "    out_channels=1,\n",
    "    num_channels=(64, 128, 256),\n",
    "    downsample_ratio=(2, 2, 2),\n",
    "    num_blocks=4,\n",
    "    noise_embed_dim=128,\n",
    "    padding=\"SAME\",\n",
    "    use_attention=True,\n",
    "    use_position_encoding=True,\n",
    "    num_heads=8,\n",
    "    sigma_data=data_std,\n",
    ")"
   ]
  },
  {
   "cell_type": "markdown",
   "metadata": {
    "id": "JFkEPqag-iPv"
   },
   "source": [
    "### Training"
   ]
  },
  {
   "cell_type": "markdown",
   "metadata": {
    "id": "dZV1dxjVAOVd"
   },
   "source": [
    "For diffusion model training, the above-defined U-Net backbone serves as a denoiser, which takes as input a batch of (isotropic Gaussian noise) corrupted samples and outputs its best guess for what the uncorrupted image would be.\n",
    "\n",
    "Besides the backbone architecture, we also need to specify how to sample the noise levels (i.e. standard deviations) used to corrupt the samples and the weighting for each noise level in the loss function (for other options and configurations, see [`swirl_dynamics.lib.diffusion.diffusion`](https://github.com/google-research/swirl-dynamics/blob/main/swirl_dynamics/lib/diffusion/diffusion.py)):"
   ]
  },
  {
   "cell_type": "code",
   "execution_count": 15,
   "metadata": {
    "executionInfo": {
     "elapsed": 1,
     "status": "ok",
     "timestamp": 1707108755340,
     "user": {
      "displayName": "Martin Guerra",
      "userId": "02531163252382427838"
     },
     "user_tz": 360
    },
    "id": "QiPBO4GJAN-Z"
   },
   "outputs": [],
   "source": [
    "diffusion_scheme = dfn_lib.Diffusion.create_variance_exploding(\n",
    "    sigma=dfn_lib.tangent_noise_schedule(),\n",
    "    data_std=data_std,\n",
    ")\n",
    "\n",
    "model = dfn.DenoisingModel(\n",
    "    # `input_shape` must agree with the expected sample shape (without the batch\n",
    "    # dimension), which in this case is simply the dimensions of a single MNIST\n",
    "    # sample.\n",
    "    input_shape=(80, 80, 1),\n",
    "    denoiser=denoiser_model,\n",
    "    noise_sampling=dfn_lib.log_uniform_sampling(\n",
    "        diffusion_scheme, clip_min=1e-4, uniform_grid=True,\n",
    "    ),\n",
    "    noise_weighting=dfn_lib.edm_weighting(data_std=data_std),\n",
    ")"
   ]
  },
  {
   "cell_type": "markdown",
   "metadata": {
    "id": "iaALfKOEBeTN"
   },
   "source": [
    "We are now ready to define the learning parameters."
   ]
  },
  {
   "cell_type": "code",
   "execution_count": 21,
   "metadata": {
    "id": "eMHTJDRpx23L"
   },
   "outputs": [],
   "source": [
    "# !rm -R -f $workdir  # optional: clear the working directory"
   ]
  },
  {
   "cell_type": "code",
   "execution_count": 18,
   "metadata": {
    "executionInfo": {
     "elapsed": 1,
     "status": "ok",
     "timestamp": 1707108759111,
     "user": {
      "displayName": "Martin Guerra",
      "userId": "02531163252382427838"
     },
     "user_tz": 360
    },
    "id": "cCA4SfBC8uaa"
   },
   "outputs": [],
   "source": [
    "num_train_steps = 100000  #@param\n",
    "workdir = \"/tmp/diffusion_demo_eta_2\"  #@param\n",
    "initial_lr = 0.0  #@param\n",
    "peak_lr = 1e-4  #@param\n",
    "warmup_steps = 1000  #@param\n",
    "end_lr = 1e-6  #@param\n",
    "ema_decay = 0.999  #@param\n",
    "ckpt_interval = 1000  #@param\n",
    "max_ckpt_to_keep = 5  #@param\n",
    "#train_batch_size = 32  #@param\n",
    "#eval_batch_size = 32  #@param"
   ]
  },
  {
   "cell_type": "markdown",
   "metadata": {
    "id": "P_fGNK8AzcmA"
   },
   "source": [
    "To start training, we first need to initialize the trainer."
   ]
  },
  {
   "cell_type": "code",
   "execution_count": 19,
   "metadata": {
    "colab": {
     "base_uri": "https://localhost:8080/"
    },
    "executionInfo": {
     "elapsed": 15584,
     "status": "ok",
     "timestamp": 1707108776969,
     "user": {
      "displayName": "Martin Guerra",
      "userId": "02531163252382427838"
     },
     "user_tz": 360
    },
    "id": "Ubgy3z7KzhuS",
    "outputId": "78949e9d-fd28-4dea-fe12-31d2d26da5dd"
   },
   "outputs": [],
   "source": [
    "# NOTE: use `trainers.DistributedDenoisingTrainer` for multi-device\n",
    "# training with data parallelism.\n",
    "trainer = dfn.DenoisingTrainer(\n",
    "    model=model,\n",
    "    rng=jax.random.PRNGKey(888),\n",
    "    optimizer=optax.adam(\n",
    "        learning_rate=optax.warmup_cosine_decay_schedule(\n",
    "            init_value=initial_lr,\n",
    "            peak_value=peak_lr,\n",
    "            warmup_steps=warmup_steps,\n",
    "            decay_steps=num_train_steps,\n",
    "            end_value=end_lr,\n",
    "        ),\n",
    "    ),\n",
    "    # We keep track of an exponential moving average of the model parameters\n",
    "    # over training steps. This alleviates the \"color-shift\" problems known to\n",
    "    # exist in the diffusion models.\n",
    "    ema_decay=ema_decay,\n",
    ")"
   ]
  },
  {
   "cell_type": "markdown",
   "metadata": {
    "id": "ee4YeJAhzwJw"
   },
   "source": [
    "Now we are ready to kick start training. A couple of \"callbacks\" are passed to assist with monitoring and checkpointing.\n",
    "\n",
    "The first step will be a little slow as Jax needs to JIT compile the step function (the same goes for the first step where evaluation is performed). Fortunately, steps after that should continue much faster."
   ]
  },
  {
   "cell_type": "code",
   "execution_count": 20,
   "metadata": {
    "colab": {
     "base_uri": "https://localhost:8080/",
     "height": 49,
     "referenced_widgets": [
      "d067f809a3ff43d1b2c09245786e4ebf",
      "7a43c312577b4297bb13d0f74135d947",
      "39d69e1a3dc14c08b141c6e4c81ffbff",
      "c960d0c7914048818b9bdda315a30277",
      "e98da41560494d6e96a75bf3bc2c6396",
      "83f50185c38d43979850b1f8a1215e15",
      "37f945b7a18b4455a6ee5db666a39617",
      "a8a6bf2510e94ca595292dd509f1aad5",
      "8fa673d77cf7438aad6230a8782b5d8e",
      "30505dc1178c453181a0d00418f71d7f",
      "c01e1aaf034d414dbd6f44cd993fad30"
     ]
    },
    "id": "aKKYq7WpzWkF",
    "outputId": "fdf4dad6-21ac-4e6a-86f2-9eb0ecfbd8be"
   },
   "outputs": [
    {
     "name": "stderr",
     "output_type": "stream",
     "text": [
      "WARNING:absl:Configured `CheckpointManager` using deprecated legacy API. Please follow the instructions at https://orbax.readthedocs.io/en/latest/api_refactor.html to migrate by May 1st, 2024.\n"
     ]
    },
    {
     "data": {
      "application/vnd.jupyter.widget-view+json": {
       "model_id": "a775f1172c1244c588679e801bd95228",
       "version_major": 2,
       "version_minor": 0
      },
      "text/plain": [
       "  0%|          | 0/100000 [00:00<?, ?step/s]"
      ]
     },
     "metadata": {},
     "output_type": "display_data"
    },
    {
     "name": "stderr",
     "output_type": "stream",
     "text": [
      "2024-02-07 20:28:35.786542: W external/tsl/tsl/framework/bfc_allocator.cc:296] Allocator (GPU_0_bfc) ran out of memory trying to allocate 16.27GiB with freed_by_count=0. The caller indicates that this is not a failure, but this may mean that there could be performance gains if more memory were available.\n",
      "2024-02-07 20:28:35.786608: W external/tsl/tsl/framework/bfc_allocator.cc:296] Allocator (GPU_0_bfc) ran out of memory trying to allocate 16.27GiB with freed_by_count=0. The caller indicates that this is not a failure, but this may mean that there could be performance gains if more memory were available.\n",
      "2024-02-07 20:28:35.804735: W external/tsl/tsl/framework/bfc_allocator.cc:296] Allocator (GPU_0_bfc) ran out of memory trying to allocate 16.27GiB with freed_by_count=0. The caller indicates that this is not a failure, but this may mean that there could be performance gains if more memory were available.\n",
      "2024-02-07 20:28:35.804786: W external/tsl/tsl/framework/bfc_allocator.cc:296] Allocator (GPU_0_bfc) ran out of memory trying to allocate 16.27GiB with freed_by_count=0. The caller indicates that this is not a failure, but this may mean that there could be performance gains if more memory were available.\n"
     ]
    }
   ],
   "source": [
    "templates.run_train(\n",
    "    train_dataloader=dataset,\n",
    "    trainer=trainer,\n",
    "    workdir=workdir,\n",
    "    total_train_steps=num_train_steps,\n",
    "    metric_writer=metric_writers.create_default_writer(\n",
    "        workdir, asynchronous=False\n",
    "    ),\n",
    "    metric_aggregation_steps=100,\n",
    "    eval_dataloader=eval_dataloader,\n",
    "    eval_every_steps = 1000,\n",
    "    num_batches_per_eval = 2,\n",
    "    callbacks=(\n",
    "        # This callback displays the training progress in a tqdm bar\n",
    "        templates.TqdmProgressBar(\n",
    "            total_train_steps=num_train_steps,\n",
    "            train_monitors=(\"train_loss\",),\n",
    "        ),\n",
    "        # This callback saves model checkpoint periodically\n",
    "        templates.TrainStateCheckpoint(\n",
    "            base_dir=workdir,\n",
    "            options=ocp.CheckpointManagerOptions(\n",
    "                save_interval_steps=ckpt_interval, max_to_keep=max_ckpt_to_keep\n",
    "            ),\n",
    "        ),\n",
    "    ),\n",
    ")"
   ]
  },
  {
   "cell_type": "markdown",
   "metadata": {
    "id": "ZGrA3BC-O9Du"
   },
   "source": [
    "### Inference"
   ]
  },
  {
   "cell_type": "markdown",
   "metadata": {
    "id": "JrbCgv_P6D0n"
   },
   "source": [
    "#### trainers generation"
   ]
  },
  {
   "cell_type": "markdown",
   "metadata": {
    "id": "6AURUIg5RT4m"
   },
   "source": [
    "The trained denoiser may be used to generate trainers samples.\n",
    "\n",
    "First, let's try to restore the model from checkpoint."
   ]
  },
  {
   "cell_type": "code",
   "execution_count": 21,
   "metadata": {
    "id": "JVWUL7tSO81E"
   },
   "outputs": [
    {
     "name": "stderr",
     "output_type": "stream",
     "text": [
      "WARNING:absl:Configured `CheckpointManager` using deprecated legacy API. Please follow the instructions at https://orbax.readthedocs.io/en/latest/api_refactor.html to migrate by May 1st, 2024.\n"
     ]
    }
   ],
   "source": [
    "# Restore train state from checkpoint. By default, the move recently saved\n",
    "# checkpoint is restored. Alternatively, one can directly use\n",
    "# `trainer.train_state` if continuing from the training section above.\n",
    "trained_state = dfn.DenoisingModelTrainState.restore_from_orbax_ckpt(\n",
    "    f\"{workdir}/checkpoints\", step=None\n",
    ")\n",
    "# Construct the inference function\n",
    "denoise_fn = dfn.DenoisingTrainer.inference_fn_from_state_dict(\n",
    "    trained_state, use_ema=True, denoiser=denoiser_model\n",
    ")"
   ]
  },
  {
   "cell_type": "markdown",
   "metadata": {
    "id": "tQAe4bnTRYir"
   },
   "source": [
    "Diffusion samples are generated by plugging the trained denoising function in a stochastic differential equation (parametrized by the diffusion scheme) and solving it backwards in time."
   ]
  },
  {
   "cell_type": "code",
   "execution_count": 22,
   "metadata": {
    "id": "gVrmsxFNRbE4"
   },
   "outputs": [],
   "source": [
    "sampler = dfn_lib.SdeSampler(\n",
    "    input_shape=(80, 80, 1),\n",
    "    integrator=solver_lib.EulerMaruyama(),\n",
    "    tspan=dfn_lib.edm_noise_decay(\n",
    "        diffusion_scheme, rho=7, num_steps=256, end_sigma=1e-3,\n",
    "    ),\n",
    "    scheme=diffusion_scheme,\n",
    "    denoise_fn=denoise_fn,\n",
    "    guidance_transforms=(),\n",
    "    apply_denoise_at_end=True,\n",
    "    return_full_paths=False,  # Set to `True` if the full sampling paths are needed\n",
    ")"
   ]
  },
  {
   "cell_type": "code",
   "execution_count": 23,
   "metadata": {
    "id": "QMSyltl75wbE"
   },
   "outputs": [],
   "source": [
    "# Optional: JIT compile the generate function so that it runs faster if\n",
    "# repeatedly called.\n",
    "generate = jax.jit(sampler.generate, static_argnames=('num_samples',))"
   ]
  },
  {
   "cell_type": "code",
   "execution_count": 24,
   "metadata": {
    "id": "ZmSX8FSTW0ey"
   },
   "outputs": [],
   "source": [
    "samples = generate(\n",
    "    rng=jax.random.PRNGKey(8888), num_samples=4\n",
    ")"
   ]
  },
  {
   "cell_type": "markdown",
   "metadata": {
    "id": "4a_U_bNj-v83"
   },
   "source": [
    "In the output, `samples` is the generated samples and `aux` is the auxiliary output from the generation process. It contains the full trajectory of the SDE, which may be probed to better understand the generation behaviors."
   ]
  },
  {
   "cell_type": "code",
   "execution_count": 25,
   "metadata": {
    "colab": {
     "base_uri": "https://localhost:8080/"
    },
    "executionInfo": {
     "elapsed": 117,
     "status": "ok",
     "timestamp": 1706586699464,
     "user": {
      "displayName": "Martin Guerra",
      "userId": "02531163252382427838"
     },
     "user_tz": 360
    },
    "id": "9Zp6JIEy-jof",
    "outputId": "d8c354cf-1572-4269-8c78-28a7d21b2061"
   },
   "outputs": [
    {
     "name": "stdout",
     "output_type": "stream",
     "text": [
      "(4, 80, 80, 1)\n"
     ]
    }
   ],
   "source": [
    "print(samples.shape)"
   ]
  },
  {
   "cell_type": "code",
   "execution_count": 26,
   "metadata": {},
   "outputs": [],
   "source": [
    "samples_denorm = np.zeros((4, 80, 80, 1))\n",
    "for i in range(4):\n",
    "    samples_denorm[i,:,:,:] = samples[i,:,:,:]*(np.std(eta_re,axis=0)+ 1e-4) + np.mean(eta_re,axis=0)"
   ]
  },
  {
   "cell_type": "markdown",
   "metadata": {
    "id": "LbwCG7Nl54-8"
   },
   "source": [
    "Visualize the generated samples"
   ]
  },
  {
   "cell_type": "code",
   "execution_count": 27,
   "metadata": {
    "colab": {
     "base_uri": "https://localhost:8080/",
     "height": 218
    },
    "executionInfo": {
     "elapsed": 1832,
     "status": "ok",
     "timestamp": 1706586706099,
     "user": {
      "displayName": "Martin Guerra",
      "userId": "02531163252382427838"
     },
     "user_tz": 360
    },
    "id": "YeZUbr-c6oJq",
    "outputId": "4c109823-5333-4f5b-f2bb-de0b11ca4585"
   },
   "outputs": [
    {
     "data": {
      "image/png": "[encoded data removed]",
      "text/plain": [
       "<Figure size 800x200 with 4 Axes>"
      ]
     },
     "metadata": {},
     "output_type": "display_data"
    }
   ],
   "source": [
    "# Plot generated samples\n",
    "#vmin, vmax = -3, 3\n",
    "\n",
    "# Plot generated samples\n",
    "fig, ax = plt.subplots(1, 4, figsize=(8, 2))\n",
    "for i in range(4):\n",
    "    im = ax[i].imshow(samples_denorm[i, :, :, 0])#, vmin=vmin, vmax=vmax)\n",
    "\n",
    "plt.tight_layout()\n",
    "plt.show()"
   ]
  },
  {
   "cell_type": "markdown",
   "metadata": {
    "id": "JWtflAEJ1ktz"
   },
   "source": [
    "#### A-posteriori guided generation"
   ]
  },
  {
   "cell_type": "markdown",
   "metadata": {
    "id": "nWEr24aP728v"
   },
   "source": [
    "We may post-process a trained denoising function to perform \"guided\" generation. Below we provide an example for a super-resolution task: generating high-resolution images given a low-resolution one.\n",
    "\n",
    "To achieve this, we provide the low-resolution image as the guide input and post-process the denoiser to favor generating samples which, when downsampled, give values close to these guide input."
   ]
  },
  {
   "cell_type": "code",
   "execution_count": 53,
   "metadata": {
    "id": "FSptDBh31x3f"
   },
   "outputs": [],
   "source": [
    "guidance_fn = dfn_lib.InfillFromSlices(\n",
    "    # This specifies location of the guide input using python slices.\n",
    "    # Here it implies that the guide input corresponds the 7x7 patch in the\n",
    "    # center of the image.\n",
    "    slices=(slice(None), slice(40, 47), slice(40, 47)),\n",
    "\n",
    "    # This is a parameter that controls how \"hard\" the denoiser pushes for\n",
    "    # the conditioning to be satisfied. It is a tradeoff between strictness of\n",
    "    # constraint satisfication and diversity in the generated samples.\n",
    "    guide_strength=0.1,\n",
    ")"
   ]
  },
  {
   "cell_type": "code",
   "execution_count": 54,
   "metadata": {
    "id": "XWJ0QMR_6yuD"
   },
   "outputs": [],
   "source": [
    "guided_sampler = dfn_lib.SdeSampler(\n",
    "    input_shape=(80, 80, 1),\n",
    "    integrator=solver_lib.EulerMaruyama(),\n",
    "    tspan=dfn_lib.edm_noise_decay(\n",
    "        diffusion_scheme, rho=7, num_steps=256, end_sigma=1e-3,\n",
    "    ),\n",
    "    scheme=diffusion_scheme,\n",
    "    denoise_fn=denoise_fn,\n",
    "    guidance_transforms=(guidance_fn,),\n",
    "    apply_denoise_at_end=True,\n",
    "    return_full_paths=False,\n",
    ")\n",
    "\n",
    "guided_generate = jax.jit(guided_sampler.generate, static_argnames=('num_samples',))"
   ]
  },
  {
   "cell_type": "code",
   "execution_count": 55,
   "metadata": {},
   "outputs": [],
   "source": [
    "test_ds = dataset\n",
    "test_example = next(iter(test_ds))[\"x\"]\n",
    "example_guidance_inputs = {'observed_slices': test_example[:, 40:47, 40:47]}"
   ]
  },
  {
   "cell_type": "code",
   "execution_count": 56,
   "metadata": {
    "id": "9dLGoCMI7pXH"
   },
   "outputs": [],
   "source": [
    "guided_samples = guided_generate(\n",
    "    rng=jax.random.PRNGKey(66),\n",
    "    num_samples=16,\n",
    "    # Note that the shape of the guidance input must be compatible with\n",
    "    # `sample[guidance_fn.slices]`\n",
    "    guidance_inputs=example_guidance_inputs,\n",
    ")"
   ]
  },
  {
   "cell_type": "code",
   "execution_count": 57,
   "metadata": {},
   "outputs": [],
   "source": [
    "guided_samples_denorm = np.zeros((16, 80, 80, 1))\n",
    "for i in range(16):\n",
    "    guided_samples_denorm[i,:,:,:] = guided_samples[i,:,:,:]*(np.std(eta_re,axis=0)+ 1e-4) + np.mean(eta_re,axis=0)"
   ]
  },
  {
   "cell_type": "markdown",
   "metadata": {
    "id": "UGwdwD79DF-D"
   },
   "source": [
    "Visualize guided samples"
   ]
  },
  {
   "cell_type": "code",
   "execution_count": 58,
   "metadata": {
    "colab": {
     "base_uri": "https://localhost:8080/",
     "height": 218
    },
    "executionInfo": {
     "elapsed": 1204,
     "status": "ok",
     "timestamp": 1706586873390,
     "user": {
      "displayName": "Martin Guerra",
      "userId": "02531163252382427838"
     },
     "user_tz": 360
    },
    "id": "AGEGxeEjDNl1",
    "outputId": "2aada163-5f6e-4442-d667-f76a04979019"
   },
   "outputs": [
    {
     "data": {
      "image/png": "[encoded data removed]",
      "text/plain": [
       "<Figure size 200x200 with 1 Axes>"
      ]
     },
     "metadata": {},
     "output_type": "display_data"
    },
    {
     "data": {
      "image/png": "[encoded data removed]",
      "text/plain": [
       "<Figure size 800x200 with 4 Axes>"
      ]
     },
     "metadata": {},
     "output_type": "display_data"
    }
   ],
   "source": [
    "# Plot guide patch.\n",
    "#vmin, vmax = -3, 3\n",
    "fig, ax = plt.subplots(1, 1, figsize=(2, 2))\n",
    "im = ax.imshow(test_example[0, 40:47, 40:47, 0])#, vmin=vmin, vmax=vmax)\n",
    "ax.axis(\"off\")\n",
    "ax.set_title(\"Guide patch\")\n",
    "plt.tight_layout()\n",
    "plt.show()\n",
    "\n",
    "# Plot generated samples.\n",
    "fig, ax = plt.subplots(1, 4, figsize=(8, 2))\n",
    "for i in range(4):\n",
    "    im = ax[i].imshow(guided_samples_denorm[i, :, :, 0])#, vmin=vmin, vmax=vmax)\n",
    "    # Mark out the patch where guidance is enabled.\n",
    "    square = patches.Rectangle(\n",
    "        xy=(40, 40), width=7, height=7, fill=False, edgecolor='red'\n",
    "    )\n",
    "    ax[i].add_patch(square)\n",
    "    ax[i].axis(\"off\")\n",
    "    ax[i].set_title(f\"Sample #{i}\")\n",
    "\n",
    "plt.tight_layout()\n",
    "plt.show()"
   ]
  },
  {
   "cell_type": "code",
   "execution_count": null,
   "metadata": {
    "id": "5-0VGYIFDovy"
   },
   "outputs": [],
   "source": []
  }
 ],
 "metadata": {
  "accelerator": "GPU",
  "colab": {
   "gpuType": "T4",
   "last_runtime": {
    "build_target": "//learning/grp/tools/ml_python:ml_notebook",
    "kind": "private"
   },
   "provenance": [
    {
     "file_id": "https://github.com/google-research/swirl-dynamics/blob/main/swirl_dynamics/projects/probabilistic_diffusion/colabs/guided_diffusion_demo.ipynb",
     "timestamp": 1706579575303
    },
    {
     "file_id": "1zuI1jxu2lAxRCnuV9LvdINdbjSbHHHnR",
     "timestamp": 1695423423432
    }
   ]
  },
  "kernelspec": {
   "display_name": "invscat",
   "language": "python",
   "name": "invscat"
  },
  "language_info": {
   "codemirror_mode": {
    "name": "ipython",
    "version": 3
   },
   "file_extension": ".py",
   "mimetype": "text/x-python",
   "name": "python",
   "nbconvert_exporter": "python",
   "pygments_lexer": "ipython3",
   "version": "3.10.13"
  },
  "widgets": {
   "application/vnd.jupyter.widget-state+json": {
    "30505dc1178c453181a0d00418f71d7f": {
     "model_module": "@jupyter-widgets/base",
     "model_module_version": "1.2.0",
     "model_name": "LayoutModel",
     "state": {
      "_model_module": "@jupyter-widgets/base",
      "_model_module_version": "1.2.0",
      "_model_name": "LayoutModel",
      "_view_count": null,
      "_view_module": "@jupyter-widgets/base",
      "_view_module_version": "1.2.0",
      "_view_name": "LayoutView",
      "align_content": null,
      "align_items": null,
      "align_self": null,
      "border": null,
      "bottom": null,
      "display": null,
      "flex": null,
      "flex_flow": null,
      "grid_area": null,
      "grid_auto_columns": null,
      "grid_auto_flow": null,
      "grid_auto_rows": null,
      "grid_column": null,
      "grid_gap": null,
      "grid_row": null,
      "grid_template_areas": null,
      "grid_template_columns": null,
      "grid_template_rows": null,
      "height": null,
      "justify_content": null,
      "justify_items": null,
      "left": null,
      "margin": null,
      "max_height": null,
      "max_width": null,
      "min_height": null,
      "min_width": null,
      "object_fit": null,
      "object_position": null,
      "order": null,
      "overflow": null,
      "overflow_x": null,
      "overflow_y": null,
      "padding": null,
      "right": null,
      "top": null,
      "visibility": null,
      "width": null
     }
    },
    "37f945b7a18b4455a6ee5db666a39617": {
     "model_module": "@jupyter-widgets/controls",
     "model_module_version": "1.5.0",
     "model_name": "DescriptionStyleModel",
     "state": {
      "_model_module": "@jupyter-widgets/controls",
      "_model_module_version": "1.5.0",
      "_model_name": "DescriptionStyleModel",
      "_view_count": null,
      "_view_module": "@jupyter-widgets/base",
      "_view_module_version": "1.2.0",
      "_view_name": "StyleView",
      "description_width": ""
     }
    },
    "39d69e1a3dc14c08b141c6e4c81ffbff": {
     "model_module": "@jupyter-widgets/controls",
     "model_module_version": "1.5.0",
     "model_name": "FloatProgressModel",
     "state": {
      "_dom_classes": [],
      "_model_module": "@jupyter-widgets/controls",
      "_model_module_version": "1.5.0",
      "_model_name": "FloatProgressModel",
      "_view_count": null,
      "_view_module": "@jupyter-widgets/controls",
      "_view_module_version": "1.5.0",
      "_view_name": "ProgressView",
      "bar_style": "",
      "description": "",
      "description_tooltip": null,
      "layout": "IPY_MODEL_a8a6bf2510e94ca595292dd509f1aad5",
      "max": 10000,
      "min": 0,
      "orientation": "horizontal",
      "style": "IPY_MODEL_8fa673d77cf7438aad6230a8782b5d8e",
      "value": 0
     }
    },
    "7a43c312577b4297bb13d0f74135d947": {
     "model_module": "@jupyter-widgets/controls",
     "model_module_version": "1.5.0",
     "model_name": "HTMLModel",
     "state": {
      "_dom_classes": [],
      "_model_module": "@jupyter-widgets/controls",
      "_model_module_version": "1.5.0",
      "_model_name": "HTMLModel",
      "_view_count": null,
      "_view_module": "@jupyter-widgets/controls",
      "_view_module_version": "1.5.0",
      "_view_name": "HTMLView",
      "description": "",
      "description_tooltip": null,
      "layout": "IPY_MODEL_83f50185c38d43979850b1f8a1215e15",
      "placeholder": "​",
      "style": "IPY_MODEL_37f945b7a18b4455a6ee5db666a39617",
      "value": "  0%"
     }
    },
    "83f50185c38d43979850b1f8a1215e15": {
     "model_module": "@jupyter-widgets/base",
     "model_module_version": "1.2.0",
     "model_name": "LayoutModel",
     "state": {
      "_model_module": "@jupyter-widgets/base",
      "_model_module_version": "1.2.0",
      "_model_name": "LayoutModel",
      "_view_count": null,
      "_view_module": "@jupyter-widgets/base",
      "_view_module_version": "1.2.0",
      "_view_name": "LayoutView",
      "align_content": null,
      "align_items": null,
      "align_self": null,
      "border": null,
      "bottom": null,
      "display": null,
      "flex": null,
      "flex_flow": null,
      "grid_area": null,
      "grid_auto_columns": null,
      "grid_auto_flow": null,
      "grid_auto_rows": null,
      "grid_column": null,
      "grid_gap": null,
      "grid_row": null,
      "grid_template_areas": null,
      "grid_template_columns": null,
      "grid_template_rows": null,
      "height": null,
      "justify_content": null,
      "justify_items": null,
      "left": null,
      "margin": null,
      "max_height": null,
      "max_width": null,
      "min_height": null,
      "min_width": null,
      "object_fit": null,
      "object_position": null,
      "order": null,
      "overflow": null,
      "overflow_x": null,
      "overflow_y": null,
      "padding": null,
      "right": null,
      "top": null,
      "visibility": null,
      "width": null
     }
    },
    "8fa673d77cf7438aad6230a8782b5d8e": {
     "model_module": "@jupyter-widgets/controls",
     "model_module_version": "1.5.0",
     "model_name": "ProgressStyleModel",
     "state": {
      "_model_module": "@jupyter-widgets/controls",
      "_model_module_version": "1.5.0",
      "_model_name": "ProgressStyleModel",
      "_view_count": null,
      "_view_module": "@jupyter-widgets/base",
      "_view_module_version": "1.2.0",
      "_view_name": "StyleView",
      "bar_color": null,
      "description_width": ""
     }
    },
    "a8a6bf2510e94ca595292dd509f1aad5": {
     "model_module": "@jupyter-widgets/base",
     "model_module_version": "1.2.0",
     "model_name": "LayoutModel",
     "state": {
      "_model_module": "@jupyter-widgets/base",
      "_model_module_version": "1.2.0",
      "_model_name": "LayoutModel",
      "_view_count": null,
      "_view_module": "@jupyter-widgets/base",
      "_view_module_version": "1.2.0",
      "_view_name": "LayoutView",
      "align_content": null,
      "align_items": null,
      "align_self": null,
      "border": null,
      "bottom": null,
      "display": null,
      "flex": null,
      "flex_flow": null,
      "grid_area": null,
      "grid_auto_columns": null,
      "grid_auto_flow": null,
      "grid_auto_rows": null,
      "grid_column": null,
      "grid_gap": null,
      "grid_row": null,
      "grid_template_areas": null,
      "grid_template_columns": null,
      "grid_template_rows": null,
      "height": null,
      "justify_content": null,
      "justify_items": null,
      "left": null,
      "margin": null,
      "max_height": null,
      "max_width": null,
      "min_height": null,
      "min_width": null,
      "object_fit": null,
      "object_position": null,
      "order": null,
      "overflow": null,
      "overflow_x": null,
      "overflow_y": null,
      "padding": null,
      "right": null,
      "top": null,
      "visibility": null,
      "width": null
     }
    },
    "c01e1aaf034d414dbd6f44cd993fad30": {
     "model_module": "@jupyter-widgets/controls",
     "model_module_version": "1.5.0",
     "model_name": "DescriptionStyleModel",
     "state": {
      "_model_module": "@jupyter-widgets/controls",
      "_model_module_version": "1.5.0",
      "_model_name": "DescriptionStyleModel",
      "_view_count": null,
      "_view_module": "@jupyter-widgets/base",
      "_view_module_version": "1.2.0",
      "_view_name": "StyleView",
      "description_width": ""
     }
    },
    "c960d0c7914048818b9bdda315a30277": {
     "model_module": "@jupyter-widgets/controls",
     "model_module_version": "1.5.0",
     "model_name": "HTMLModel",
     "state": {
      "_dom_classes": [],
      "_model_module": "@jupyter-widgets/controls",
      "_model_module_version": "1.5.0",
      "_model_name": "HTMLModel",
      "_view_count": null,
      "_view_module": "@jupyter-widgets/controls",
      "_view_module_version": "1.5.0",
      "_view_name": "HTMLView",
      "description": "",
      "description_tooltip": null,
      "layout": "IPY_MODEL_30505dc1178c453181a0d00418f71d7f",
      "placeholder": "​",
      "style": "IPY_MODEL_c01e1aaf034d414dbd6f44cd993fad30",
      "value": " 0/10000 [00:00&lt;?, ?step/s]"
     }
    },
    "d067f809a3ff43d1b2c09245786e4ebf": {
     "model_module": "@jupyter-widgets/controls",
     "model_module_version": "1.5.0",
     "model_name": "HBoxModel",
     "state": {
      "_dom_classes": [],
      "_model_module": "@jupyter-widgets/controls",
      "_model_module_version": "1.5.0",
      "_model_name": "HBoxModel",
      "_view_count": null,
      "_view_module": "@jupyter-widgets/controls",
      "_view_module_version": "1.5.0",
      "_view_name": "HBoxView",
      "box_style": "",
      "children": [
       "IPY_MODEL_7a43c312577b4297bb13d0f74135d947",
       "IPY_MODEL_39d69e1a3dc14c08b141c6e4c81ffbff",
       "IPY_MODEL_c960d0c7914048818b9bdda315a30277"
      ],
      "layout": "IPY_MODEL_e98da41560494d6e96a75bf3bc2c6396"
     }
    },
    "e98da41560494d6e96a75bf3bc2c6396": {
     "model_module": "@jupyter-widgets/base",
     "model_module_version": "1.2.0",
     "model_name": "LayoutModel",
     "state": {
      "_model_module": "@jupyter-widgets/base",
      "_model_module_version": "1.2.0",
      "_model_name": "LayoutModel",
      "_view_count": null,
      "_view_module": "@jupyter-widgets/base",
      "_view_module_version": "1.2.0",
      "_view_name": "LayoutView",
      "align_content": null,
      "align_items": null,
      "align_self": null,
      "border": null,
      "bottom": null,
      "display": null,
      "flex": null,
      "flex_flow": null,
      "grid_area": null,
      "grid_auto_columns": null,
      "grid_auto_flow": null,
      "grid_auto_rows": null,
      "grid_column": null,
      "grid_gap": null,
      "grid_row": null,
      "grid_template_areas": null,
      "grid_template_columns": null,
      "grid_template_rows": null,
      "height": null,
      "justify_content": null,
      "justify_items": null,
      "left": null,
      "margin": null,
      "max_height": null,
      "max_width": null,
      "min_height": null,
      "min_width": null,
      "object_fit": null,
      "object_position": null,
      "order": null,
      "overflow": null,
      "overflow_x": null,
      "overflow_y": null,
      "padding": null,
      "right": null,
      "top": null,
      "visibility": null,
      "width": null
     }
    }
   }
  }
 },
 "nbformat": 4,
 "nbformat_minor": 4
}
