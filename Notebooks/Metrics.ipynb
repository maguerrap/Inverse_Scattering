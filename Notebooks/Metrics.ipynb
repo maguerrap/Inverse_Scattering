{
 "cells": [
  {
   "cell_type": "code",
   "execution_count": 1,
   "id": "5bfc5c2f-5ee1-42dc-9fa1-8d8b32b15eb5",
   "metadata": {},
   "outputs": [],
   "source": [
    "import numpy as np\n",
    "import jax\n",
    "import jax.numpy as jnp\n",
    "import matplotlib.pyplot as plt\n",
    "\n",
    "import h5py\n",
    "import natsort"
   ]
  },
  {
   "cell_type": "code",
   "execution_count": 42,
   "id": "2042cdcd-fe59-465e-abbe-91ca26349f2b",
   "metadata": {},
   "outputs": [],
   "source": [
    "#name = 'Results/diffusion_squares_freq_2.5_5_10.hdf5'\n",
    "#name = 'Results/diffusion_shepp_logan_freq_2.5_5_10.hdf5'\n",
    "name = 'Results/diffusion_triangles_freq_2.5_5_10.hdf5'\n",
    "\n",
    "\n",
    "# Loading truth eta\n",
    "with h5py.File(f'{name}', 'r') as f:\n",
    "    #print(\"Keys: %s\" % f.keys())\n",
    "    eta_re = f['eta'][()]\n",
    "\n",
    "# Loading predicted eta\n",
    "with h5py.File(f'{name}', 'r') as f:\n",
    "    eta_re_pred = f['eta_pred'][()]\n",
    "\n",
    "# Clean up temporary variables to free memory\n",
    "#del scatter_re, scatter_im, tmp1, tmp2, tmp3"
   ]
  },
  {
   "cell_type": "code",
   "execution_count": 43,
   "id": "e19e2bd1-d97c-4d71-b5b6-948723cdb259",
   "metadata": {},
   "outputs": [
    {
     "data": {
      "text/plain": [
       "(200, 80, 80, 1)"
      ]
     },
     "execution_count": 43,
     "metadata": {},
     "output_type": "execute_result"
    }
   ],
   "source": [
    "eta_re.shape"
   ]
  },
  {
   "cell_type": "code",
   "execution_count": 44,
   "id": "c41e51b6-0f87-4b7e-b2ec-33dcd494d783",
   "metadata": {},
   "outputs": [
    {
     "data": {
      "text/plain": [
       "(200, 4, 80, 80, 1)"
      ]
     },
     "execution_count": 44,
     "metadata": {},
     "output_type": "execute_result"
    }
   ],
   "source": [
    "eta_re_pred.shape"
   ]
  },
  {
   "cell_type": "code",
   "execution_count": 45,
   "id": "fabf7ade-2092-4585-b64f-d60a5efa1f91",
   "metadata": {},
   "outputs": [],
   "source": [
    "cond_samples_metric = np.swapaxes(np.swapaxes(eta_re_pred[:,:,:,:,0],1,2),2,3)"
   ]
  },
  {
   "cell_type": "code",
   "execution_count": 46,
   "id": "1f74380d-f8c0-48e6-9d82-ccfe0d585170",
   "metadata": {},
   "outputs": [
    {
     "data": {
      "text/plain": [
       "(200, 80, 80, 4)"
      ]
     },
     "execution_count": 46,
     "metadata": {},
     "output_type": "execute_result"
    }
   ],
   "source": [
    "cond_samples_metric.shape"
   ]
  },
  {
   "cell_type": "markdown",
   "id": "4204c1f9-3b40-4ad0-addc-61403a95b863",
   "metadata": {},
   "source": [
    "## RRMSE\n",
    "\n",
    "### For deterministic"
   ]
  },
  {
   "cell_type": "code",
   "execution_count": null,
   "id": "a7dbdbc0-c20b-4a40-b8bf-91e494c3fc93",
   "metadata": {},
   "outputs": [],
   "source": [
    "MSE = np.zeros(cond_samples_metric.shape[0])\n",
    "for i in range(cond_samples_metric.shape[0]):\n",
    "    MSE[i] = np.linalg.norm(eta_re[i,:,:,0]-cond_samples_metric[i,:,:])/np.linalg.norm(eta_re[i,:,:,0])"
   ]
  },
  {
   "cell_type": "markdown",
   "id": "430721ec-df38-452d-85a3-32b422782bde",
   "metadata": {},
   "source": [
    "### For probabilistic"
   ]
  },
  {
   "cell_type": "code",
   "execution_count": 47,
   "id": "8362b86d-ff72-447c-898a-a828bb3e6d69",
   "metadata": {},
   "outputs": [],
   "source": [
    "MSE_ = np.zeros((cond_samples_metric.shape[0],cond_samples_metric.shape[-1]))\n",
    "MSE = np.zeros(cond_samples_metric.shape[0])\n",
    "for i in range(cond_samples_metric.shape[0]):\n",
    "    for j in range(cond_samples_metric.shape[-1]):\n",
    "        MSE_[i,j] = np.linalg.norm(eta_re[i,:,:,0]-cond_samples_metric[i,:,:,j])/np.linalg.norm(eta_re[i,:,:,0])\n",
    "    MSE[i] = np.mean(MSE_[i,:])"
   ]
  },
  {
   "cell_type": "code",
   "execution_count": 48,
   "id": "3f8ed213-db38-4ec4-9c95-c126b3a493fa",
   "metadata": {},
   "outputs": [
    {
     "name": "stdout",
     "output_type": "stream",
     "text": [
      "Mean of validation relative l2 error: 0.10270721798057003\n",
      "Median of validation relative l2 error: 0.09288091811366013\n",
      "Min of validation relative l2 error: 0.012519165667507864\n",
      "Max of validation relative l2 error: 0.35075907207124757\n",
      "Standard deviation of validation relative l2 errors: 0.08389802860356375\n"
     ]
    }
   ],
   "source": [
    "print('Mean of validation relative l2 error:', np.mean(MSE))\n",
    "print('Median of validation relative l2 error:', np.median(MSE))\n",
    "print('Min of validation relative l2 error:', np.min(MSE))\n",
    "print('Max of validation relative l2 error:', np.max(MSE))\n",
    "print('Standard deviation of validation relative l2 errors:', np.std(MSE))"
   ]
  },
  {
   "cell_type": "markdown",
   "id": "f70320bb-7b22-4718-a78c-a091f884d6cb",
   "metadata": {},
   "source": [
    "## CRPS\n",
    "\n",
    "### For probabilistic"
   ]
  },
  {
   "cell_type": "code",
   "execution_count": 31,
   "id": "224c08f9-618e-485a-998d-b6eb4495da99",
   "metadata": {},
   "outputs": [],
   "source": [
    "from swirl_dynamics.lib import metrics"
   ]
  },
  {
   "cell_type": "code",
   "execution_count": 49,
   "id": "26a30eaf-1f11-4f77-bb4d-50436c8fad0d",
   "metadata": {},
   "outputs": [],
   "source": [
    "crpss_1 = np.zeros((cond_samples_metric.shape[0],80,80))\n",
    "for i in range(cond_samples_metric.shape[0]):\n",
    "    crpss_1[i,:,:] = metrics.probabilistic_forecast.crps(cond_samples_metric[i,:,:,:], eta_re[i, :, :, 0], ensemble_axis=-1)"
   ]
  },
  {
   "cell_type": "code",
   "execution_count": 50,
   "id": "4b0ec592-0410-489b-9621-05fcb96f9141",
   "metadata": {},
   "outputs": [
    {
     "data": {
      "image/png": "[encoded data removed]",
      "text/plain": [
       "<Figure size 2000x400 with 6 Axes>"
      ]
     },
     "metadata": {},
     "output_type": "display_data"
    }
   ],
   "source": [
    "fig, axs = plt.subplots(1,5,figsize=(5*4, 4))\n",
    "for i in range(5):\n",
    "    im = axs[i].imshow(crpss_1[i, :, :])#, vmin=-2.5, vmax=2.5)\n",
    "    axs[i].set_title(f\"conditional sample crps: #{i + 1}\")\n",
    "    axs[i].axis(\"off\")\n",
    "fig.colorbar(im,ax=axs[:], location=\"right\")\n",
    "#plt.tight_layout()\n",
    "plt.show()"
   ]
  },
  {
   "cell_type": "code",
   "execution_count": 51,
   "id": "fecefb4e-2c34-40d0-b390-4b5bc29d98e0",
   "metadata": {},
   "outputs": [],
   "source": [
    "# computing the \\ell^1 metric\n",
    "crpss_11 = np.zeros(cond_samples_metric.shape[0])\n",
    "for i in range(cond_samples_metric.shape[0]):\n",
    "    crpss_11[i] = np.sum(np.abs(crpss_1[i,:,:]))/(80*80)"
   ]
  },
  {
   "cell_type": "code",
   "execution_count": 52,
   "id": "2f5ebcbf-d867-44e1-b851-e69e10c2d4b3",
   "metadata": {},
   "outputs": [
    {
     "name": "stdout",
     "output_type": "stream",
     "text": [
      "CRPS = 0.0002619\n"
     ]
    }
   ],
   "source": [
    "print('CRPS = %.7f' % np.mean(crpss_11))"
   ]
  },
  {
   "cell_type": "markdown",
   "id": "4a186377-bdb1-4a95-be36-79d3f6b22554",
   "metadata": {},
   "source": [
    "## Energy Spectrum"
   ]
  },
  {
   "cell_type": "code",
   "execution_count": 15,
   "id": "0f2f54c2-97e6-4805-ba11-998258d339d3",
   "metadata": {},
   "outputs": [
    {
     "name": "stdout",
     "output_type": "stream",
     "text": [
      "Pysteps configuration file found at: /home/mguerra4/miniconda3/envs/fwiinvscat/lib/python3.12/site-packages/pysteps/pystepsrc\n",
      "\n"
     ]
    }
   ],
   "source": [
    "from pysteps.utils.spectral import rapsd"
   ]
  },
  {
   "cell_type": "markdown",
   "id": "18fec1a8-d79a-45ec-b417-c93e525e9134",
   "metadata": {},
   "source": [
    "### For deterministic"
   ]
  },
  {
   "cell_type": "code",
   "execution_count": null,
   "id": "c7f3d836-3a0d-4641-a7b6-954f31f33dee",
   "metadata": {},
   "outputs": [],
   "source": [
    "rapsds_ref = np.zeros((eta_re.shape[0], 40))\n",
    "rapsds = np.zeros((eta_re.shape[0],40))\n",
    "rapsds_error_ = np.zeros(eta_re.shape[0])\n",
    "for i in range(eta_re.shape[0]):\n",
    "    rapsds_ref[i,:] = rapsd(eta_re[i,:,:,:],fft_method=np.fft)\n",
    "    rapsds[i,:] = rapsd(eta_re_pred[i,:,:],fft_method=np.fft)"
   ]
  },
  {
   "cell_type": "code",
   "execution_count": null,
   "id": "73ec396d-f615-4955-b49e-6b7c9e16fd68",
   "metadata": {},
   "outputs": [],
   "source": [
    "rapsds_error_ = np.abs(np.log(np.mean(rapsds,axis=0)/np.mean(rapsds_ref,axis=0)))"
   ]
  },
  {
   "cell_type": "code",
   "execution_count": null,
   "id": "c3db7f66-61c4-4b19-b4f2-68ea3616ecb4",
   "metadata": {},
   "outputs": [],
   "source": [
    "print('radially averaged power spectrum = %.5f' % np.mean(rapsds_error_))"
   ]
  },
  {
   "cell_type": "markdown",
   "id": "e995b4a3-5fe8-456c-8c19-fb2767760c3f",
   "metadata": {},
   "source": [
    "### For probabilistic"
   ]
  },
  {
   "cell_type": "code",
   "execution_count": 53,
   "id": "63e22bce-e776-4aa5-8d19-62bc1e8f5dbf",
   "metadata": {},
   "outputs": [],
   "source": [
    "rapsds = np.zeros((cond_samples_metric.shape[0], cond_samples_metric.shape[-1], 40))\n",
    "rapsds_ref = np.zeros((cond_samples_metric.shape[0], 40))\n",
    "rapsds_mean = np.zeros((cond_samples_metric.shape[0],40))\n",
    "for i in range(cond_samples_metric.shape[0]):\n",
    "    rapsds_ref[i,:] = rapsd(eta_re[i,:,:,0],fft_method=np.fft)\n",
    "    for j in range(cond_samples_metric.shape[-1]):\n",
    "        rapsds[i,j,:] = rapsd(cond_samples_metric[i,:,:,j],fft_method=np.fft)\n",
    "    rapsds_mean[i,:] = np.mean(rapsds[i,:,:],axis=0)"
   ]
  },
  {
   "cell_type": "code",
   "execution_count": 54,
   "id": "5e8fc2d3-3445-4988-b7de-8ed894a0e585",
   "metadata": {},
   "outputs": [
    {
     "data": {
      "text/plain": [
       "(200, 40)"
      ]
     },
     "execution_count": 54,
     "metadata": {},
     "output_type": "execute_result"
    }
   ],
   "source": [
    "rapsds_mean.shape"
   ]
  },
  {
   "cell_type": "code",
   "execution_count": 55,
   "id": "579fad2d-142e-4aaa-b771-980394c72e07",
   "metadata": {},
   "outputs": [
    {
     "data": {
      "text/plain": [
       "(200, 40)"
      ]
     },
     "execution_count": 55,
     "metadata": {},
     "output_type": "execute_result"
    }
   ],
   "source": [
    "rapsds_ref.shape"
   ]
  },
  {
   "cell_type": "code",
   "execution_count": 56,
   "id": "890e5976-3388-41e9-8a17-a62ad5625cc0",
   "metadata": {},
   "outputs": [],
   "source": [
    "rapsds_error_ = np.mean(np.abs(np.log(rapsds_mean) - np.log(rapsds_ref)),axis=1)"
   ]
  },
  {
   "cell_type": "code",
   "execution_count": 57,
   "id": "df1de463-32d9-4a7f-91c7-7d98c5e821fb",
   "metadata": {},
   "outputs": [
    {
     "data": {
      "text/plain": [
       "(200,)"
      ]
     },
     "execution_count": 57,
     "metadata": {},
     "output_type": "execute_result"
    }
   ],
   "source": [
    "rapsds_error_.shape"
   ]
  },
  {
   "cell_type": "code",
   "execution_count": 58,
   "id": "32b7ec8d-9f5b-4708-9c75-8eccc210e0dc",
   "metadata": {},
   "outputs": [
    {
     "name": "stdout",
     "output_type": "stream",
     "text": [
      "radially averaged power spectrum = 0.04442\n"
     ]
    }
   ],
   "source": [
    "print('radially averaged power spectrum = %.5f' % np.mean(rapsds_error_))"
   ]
  },
  {
   "cell_type": "markdown",
   "id": "385f110f-35c7-4e7f-a534-3a70e497f2c4",
   "metadata": {},
   "source": [
    "## Sinkhorn"
   ]
  },
  {
   "cell_type": "code",
   "execution_count": 22,
   "id": "9e0cd379-ef50-4990-a408-c6340223cb9b",
   "metadata": {},
   "outputs": [],
   "source": [
    "import ott\n",
    "from ott import problems\n",
    "from ott.geometry import costs, pointcloud\n",
    "from ott.solvers import linear\n",
    "from ott.problems.linear import linear_problem\n",
    "from ott.solvers.linear import acceleration, sinkhorn\n",
    "from ott.tools.sinkhorn_divergence import sinkhorn_divergence\n",
    "\n",
    "from scipy.ndimage import gaussian_filter"
   ]
  },
  {
   "cell_type": "markdown",
   "id": "283f7f3e-b7eb-4b97-a1c9-7128ed368545",
   "metadata": {},
   "source": [
    "### For deterministic"
   ]
  },
  {
   "cell_type": "code",
   "execution_count": null,
   "id": "9434ce3e-56fa-4ee9-9cda-44e9f52f3f97",
   "metadata": {},
   "outputs": [],
   "source": [
    "eta_re_vect = eta_re[:,:,:].reshape((eta_re.shape[0],80*80))\n",
    "eta_re_pred_vect = eta_re_pred[:,:,:].reshape((eta_re_pred.shape[0],80*80))"
   ]
  },
  {
   "cell_type": "code",
   "execution_count": null,
   "id": "8af8ea32-43c6-4802-8c75-c45ca111ba28",
   "metadata": {},
   "outputs": [],
   "source": [
    "geom = pointcloud.PointCloud(eta_re_vect[0,:], eta_re_pred_vect[0,:], cost_fn=costs.Euclidean())"
   ]
  },
  {
   "cell_type": "code",
   "execution_count": null,
   "id": "93cb3ca6-0bf3-402b-836e-5ff16dc87082",
   "metadata": {},
   "outputs": [],
   "source": [
    "# Define a linear problem with that cost structure.\n",
    "ot_prob = linear_problem.LinearProblem(geom)\n",
    "# Create a Sinkhorn solver\n",
    "solver = sinkhorn.Sinkhorn()\n",
    "# Solve OT problem\n",
    "ot = solver(ot_prob)\n",
    "# The out object contains many things, among which the regularized OT cost\n",
    "print(\n",
    "    \" Sinkhorn has converged: \",\n",
    "    ot.converged,\n",
    "    \"\\n\",\n",
    "    \"Error upon last iteration: \",\n",
    "    ot.errors[(ot.errors > -1)][-1],\n",
    "    \"\\n\",\n",
    "    \"Sinkhorn required \",\n",
    "    jnp.sum(ot.errors > -1),\n",
    "    \" iterations to converge. \\n\",\n",
    "    \"Entropy regularized OT cost: \",\n",
    "    ot.reg_ot_cost,\n",
    "    \"\\n\",\n",
    "    \"OT cost (without entropy): \",\n",
    "    jnp.sum(ot.matrix * ot.geom.cost_matrix),\n",
    ")"
   ]
  },
  {
   "cell_type": "markdown",
   "id": "8a8ecf84-1604-4f75-8dd1-3a51d8984bee",
   "metadata": {},
   "source": [
    "### For probabilistic"
   ]
  },
  {
   "cell_type": "code",
   "execution_count": null,
   "id": "9ba8177d-7fb2-4bdf-a60f-e9c1cf1d5aa6",
   "metadata": {},
   "outputs": [],
   "source": [
    "# Parameters for the computational task.\n",
    "\n",
    "L = 4 # number of levels (even number)\n",
    "s = 5 # leaf size\n",
    "r = 3 # rank\n",
    "\n",
    "# Discretization of Omega (n_eta * n_eta).\n",
    "neta = (2**L)*s\n",
    "\n",
    "# Number of sources/detectors (n_sc).\n",
    "# Discretization of the domain of alpha in polar coordinates (n_theta * n_rho).\n",
    "# For simplicity, these values are set equal (n_sc = n_theta = n_rho), facilitating computation.\n",
    "nx = (2**L)*s\n",
    "\n",
    "# Standard deviation for the Gaussian blur.\n",
    "blur_sigma = 0.5\n",
    "\n",
    "# Number of training datapoints.\n",
    "NTRAIN = 18000"
   ]
  },
  {
   "cell_type": "code",
   "execution_count": null,
   "id": "f6e33a01-2c91-4226-a899-dfad5e968799",
   "metadata": {},
   "outputs": [],
   "source": [
    "#name = 'Data/traindata_smooth_sigma_0.04'\n",
    "#name = 'Data/traindata_shepp_logan'\n",
    "name = 'Data/traindata_L4s5_multifreq_ns10_square_10h_freq_2.5_5_10'\n",
    "#name = 'Data/traindata_3510tri'\n",
    "\n",
    "\n",
    "# Loading and preprocessing perturbation data (eta)\n",
    "with h5py.File(f'{name}/eta.h5', 'r') as f:\n",
    "    # Read eta data, apply Gaussian blur, and reshape\n",
    "    eta_re_train = f[list(f.keys())[0]][:NTRAIN, :].reshape(-1, neta, neta)\n",
    "    blur_fn = lambda x: gaussian_filter(x, sigma=blur_sigma)\n",
    "    eta_re_train = np.stack([blur_fn(eta_re_train[i, :, :]) for i in range(NTRAIN)]).astype('float32')\n",
    "\n",
    "# Clean up temporary variables to free memory\n",
    "#del scatter_re, scatter_im, tmp1, tmp2, tmp3"
   ]
  },
  {
   "cell_type": "code",
   "execution_count": null,
   "id": "02fb5233-4e0b-4190-ac1e-7f7ad3be1da6",
   "metadata": {},
   "outputs": [],
   "source": [
    "eta_re_train.shape"
   ]
  },
  {
   "cell_type": "code",
   "execution_count": null,
   "id": "9f625094-5b7b-45ef-834a-cbb89531cafb",
   "metadata": {},
   "outputs": [],
   "source": [
    "num_samples_metric = 100"
   ]
  },
  {
   "cell_type": "code",
   "execution_count": null,
   "id": "9d01a27b-9a42-4d41-aba4-c22bc53a414b",
   "metadata": {},
   "outputs": [],
   "source": [
    "eta_re_pred.shape"
   ]
  },
  {
   "cell_type": "code",
   "execution_count": null,
   "id": "063abd60-bc21-4afd-9b04-a83a6c84996e",
   "metadata": {},
   "outputs": [],
   "source": [
    "samples_theta = np.zeros((num_samples_metric*eta_re_pred.shape[1],80*80))\n",
    "samples_test = np.zeros((num_samples_metric*eta_re_pred.shape[1],80*80))\n",
    "samples_training = np.zeros((NTRAIN,80*80))\n",
    "samples_theta[:,:] = eta_re_pred[:num_samples_metric,:,:,:,0].reshape((num_samples_metric*eta_re_pred.shape[1],80*80))\n",
    "samples_test[:,:] = eta_re[:num_samples_metric*eta_re_pred.shape[1],:,:,0].reshape(num_samples_metric*eta_re_pred.shape[1],80*80)\n",
    "samples_training[:,:] = eta_re_train[:,:,:].reshape(NTRAIN,80*80)"
   ]
  },
  {
   "cell_type": "code",
   "execution_count": null,
   "id": "1446e948-9fdd-4a24-afd0-d4cbb150bf6c",
   "metadata": {},
   "outputs": [],
   "source": [
    "#ot_ref = []\n",
    "ot_test = []\n",
    "# Create a Sinkhorn solver\n",
    "solver = sinkhorn.Sinkhorn()\n",
    "for i in range(1,num_samples_metric*eta_re_pred.shape[1]+1):\n",
    "    #geom_1 = pointcloud.PointCloud(samples_training[:i,:], samples_test[:i,:], cost_fn=costs.Euclidean())\n",
    "    geom_2 = pointcloud.PointCloud(samples_theta[:i,:], samples_test[:i,:], cost_fn=costs.Euclidean())\n",
    "    # Define a linear problem with that cost structure.\n",
    "    #ot_prob_ref = linear_problem.LinearProblem(geom_1)\n",
    "    ot_prob_test = linear_problem.LinearProblem(geom_2)\n",
    "    # Solve OT problem\n",
    "    #ot_1 = solver(ot_prob_ref)\n",
    "    ot_2 = solver(ot_prob_test)\n",
    "    #ot_ref.append(ot_1.reg_ot_cost)\n",
    "    ot_test.append(ot_2.reg_ot_cost)"
   ]
  },
  {
   "cell_type": "code",
   "execution_count": null,
   "id": "5a01605d-1e29-476b-9d7b-c20ff790836f",
   "metadata": {},
   "outputs": [],
   "source": [
    "len(ot_test)"
   ]
  },
  {
   "cell_type": "code",
   "execution_count": null,
   "id": "b65a2b72-3f74-4ceb-b47a-7541018a521e",
   "metadata": {},
   "outputs": [],
   "source": [
    "plt.plot(range(1,len(ot_test)+1), abs(np.array(ot_test) - np.array(ot_ref)))\n",
    "#plt.yscale('log')\n",
    "plt.ylabel('OT cost')\n",
    "plt.xlabel('samples')\n",
    "#plt.savefig('sinkhorn_smooth_sigma_0.04_comparison_abs.png')\n",
    "plt.show()"
   ]
  },
  {
   "cell_type": "code",
   "execution_count": null,
   "id": "5f42434b-721e-48ca-aa4d-e553ce607dad",
   "metadata": {},
   "outputs": [],
   "source": [
    "#plt.plot(range(1,len(ot_test)+1), np.array(ot_ref), label=\"SD ref\")\n",
    "plt.plot(range(1,len(ot_test)+1), np.array(ot_test), label=\"SD gen\")\n",
    "#plt.yscale('log')\n",
    "plt.ylabel('OT cost')\n",
    "plt.xlabel('samples')\n",
    "plt.legend()\n",
    "#plt.savefig('sinkhorn_smooth_sigma_0.04.png')\n",
    "plt.show()"
   ]
  },
  {
   "cell_type": "code",
   "execution_count": null,
   "id": "6524a3ad-4778-4eda-8a6f-955f81127039",
   "metadata": {},
   "outputs": [],
   "source": [
    "print('Sinkhorn divergence ref = %.5f' % ot_ref[len(ot_test)-1])"
   ]
  },
  {
   "cell_type": "code",
   "execution_count": null,
   "id": "a9177037-c769-4fdf-9a35-a021df51775f",
   "metadata": {},
   "outputs": [],
   "source": [
    "print('Sinkhorn divergence test = %.5f' % ot_test[len(ot_test)-1])"
   ]
  },
  {
   "cell_type": "code",
   "execution_count": null,
   "id": "503a6518-6bf6-4682-b938-718e102fb678",
   "metadata": {},
   "outputs": [],
   "source": [
    "print('|ref-test| = %.5f' % abs(ot_ref[len(ot_test)-1] - ot_test[len(ot_test)-1]))"
   ]
  },
  {
   "cell_type": "code",
   "execution_count": null,
   "id": "8e02e636-f41f-40b3-bbbb-83e65ad54204",
   "metadata": {},
   "outputs": [],
   "source": []
  }
 ],
 "metadata": {
  "kernelspec": {
   "display_name": "Python 3 (ipykernel)",
   "language": "python",
   "name": "python3"
  },
  "language_info": {
   "codemirror_mode": {
    "name": "ipython",
    "version": 3
   },
   "file_extension": ".py",
   "mimetype": "text/x-python",
   "name": "python",
   "nbconvert_exporter": "python",
   "pygments_lexer": "ipython3",
   "version": "3.12.2"
  }
 },
 "nbformat": 4,
 "nbformat_minor": 5
}
